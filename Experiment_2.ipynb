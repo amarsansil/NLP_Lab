{
  "nbformat": 4,
  "nbformat_minor": 0,
  "metadata": {
    "colab": {
      "provenance": []
    },
    "kernelspec": {
      "name": "python3",
      "display_name": "Python 3"
    },
    "language_info": {
      "name": "python"
    }
  },
  "cells": [
    {
      "cell_type": "code",
      "execution_count": 4,
      "metadata": {
        "colab": {
          "base_uri": "https://localhost:8080/"
        },
        "id": "oqC7l46OWnIF",
        "outputId": "b4674448-832d-4336-a365-f938f4412adf"
      },
      "outputs": [
        {
          "output_type": "stream",
          "name": "stdout",
          "text": [
            "['Good']\n",
            "['we', 'will']\n",
            "['Good', 'morning']\n",
            "['we', 'will']\n",
            "['Good', 'morning', 'everyone']\n",
            "['we', 'will']\n",
            "['Good', 'morning', 'everyone', '.']\n",
            "['we', 'will']\n",
            "['Good', 'morning', 'everyone', '.', 'Today']\n",
            "['we', 'will']\n",
            "['Good', 'morning', 'everyone', '.', 'Today', 'study']\n",
            "['we', 'will']\n",
            "['Good', 'morning', 'everyone', '.', 'Today', 'study', 'NLTK']\n",
            "['we', 'will']\n",
            "['Good', 'morning', 'everyone', '.', 'Today', 'study', 'NLTK', '.']\n",
            "['we', 'will']\n"
          ]
        },
        {
          "output_type": "stream",
          "name": "stderr",
          "text": [
            "[nltk_data] Downloading package stopwords to /root/nltk_data...\n",
            "[nltk_data]   Unzipping corpora/stopwords.zip.\n"
          ]
        }
      ],
      "source": [
        "import nltk.corpus\n",
        "from nltk.corpus import stopwords\n",
        "from nltk.tokenize import word_tokenize\n",
        "nltk.download(\"stopwords\")\n",
        "stop_words=set(stopwords.words(\"english\"))\n",
        "text = \"Good morning everyone. Today we will study NLTK.\"\n",
        "words=word_tokenize(text)\n",
        "remove_stopwords=[]\n",
        "for i in words:\n",
        "   if i not in stop_words:\n",
        "     remove_stopwords.append(i)\n",
        "     print (remove_stopwords)\n",
        "     remove_words=[]\n",
        "     remove_words=[i for i in words if i in stop_words]\n",
        "     print (remove_words)\n",
        ""
      ]
    }
  ]
}