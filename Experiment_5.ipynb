{
  "nbformat": 4,
  "nbformat_minor": 0,
  "metadata": {
    "colab": {
      "provenance": []
    },
    "kernelspec": {
      "name": "python3",
      "display_name": "Python 3"
    },
    "language_info": {
      "name": "python"
    }
  },
  "cells": [
    {
      "cell_type": "code",
      "execution_count": 5,
      "metadata": {
        "colab": {
          "base_uri": "https://localhost:8080/"
        },
        "id": "3WuOgeECdEP1",
        "outputId": "e9753fe4-1db8-4506-878a-26c8d3d54490"
      },
      "outputs": [
        {
          "output_type": "stream",
          "name": "stderr",
          "text": [
            "[nltk_data] Downloading package punkt to /root/nltk_data...\n",
            "[nltk_data]   Package punkt is already up-to-date!\n"
          ]
        },
        {
          "output_type": "stream",
          "name": "stdout",
          "text": [
            "Sixteen:sixteen\n",
            "years:year\n",
            "had:had\n",
            "Miss:miss\n",
            "Taylor:taylor\n",
            "been:been\n",
            "in:in\n",
            "Mr.:mr.\n",
            "Woodhouse:woodhous\n",
            "'s:'s\n",
            "family:famili\n",
            ",:,\n",
            "less:less\n",
            "as:as\n",
            "a:a\n",
            "governess:gover\n",
            "than:than\n",
            "a:a\n",
            "friend:friend\n",
            ",:,\n",
            "very:veri\n",
            "fond:fond\n",
            "of:of\n",
            "both:both\n",
            "daughters:daughter\n",
            ",:,\n",
            "but:but\n",
            "particularly:particularli\n",
            "of:of\n",
            "Emma:emma\n",
            ".:.\n",
            "Between:between\n",
            "_them_:_them_\n",
            "it:it\n",
            "was:wa\n",
            "more:more\n",
            "the:the\n",
            "intimacy:intimaci\n",
            "of:of\n",
            "sisters:sister\n",
            ".:.\n"
          ]
        }
      ],
      "source": [
        "import nltk\n",
        "from nltk.stem import PorterStemmer\n",
        "from nltk.tokenize import sent_tokenize\n",
        "from nltk.tokenize import word_tokenize\n",
        "from urllib import request\n",
        "url=\"https://github.com/fbkarsdorp/python-course/raw/master/data/austen-emma.txt\"\n",
        "response=request.urlopen(url)\n",
        "text=response.read().decode('utf8')\n",
        "nltk.download('punkt')\n",
        "ps=PorterStemmer()\n",
        "tokenize=[sent_tokenize(text)[3],sent_tokenize(text)[4]]\n",
        "for i in tokenize:\n",
        "  for j in word_tokenize(i):\n",
        "    print(j + \":\" + ps.stem(j))"
      ]
    }
  ]
}