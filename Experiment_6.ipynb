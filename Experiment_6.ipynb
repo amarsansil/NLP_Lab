{
  "nbformat": 4,
  "nbformat_minor": 0,
  "metadata": {
    "colab": {
      "provenance": []
    },
    "kernelspec": {
      "name": "python3",
      "display_name": "Python 3"
    },
    "language_info": {
      "name": "python"
    }
  },
  "cells": [
    {
      "cell_type": "code",
      "execution_count": 4,
      "metadata": {
        "colab": {
          "base_uri": "https://localhost:8080/"
        },
        "id": "LCj90MRHez4Z",
        "outputId": "db99ff7e-9268-4c60-e30d-28737263ba28"
      },
      "outputs": [
        {
          "output_type": "stream",
          "name": "stderr",
          "text": [
            "[nltk_data] Downloading package punkt to /root/nltk_data...\n",
            "[nltk_data]   Unzipping tokenizers/punkt.zip.\n"
          ]
        },
        {
          "output_type": "stream",
          "name": "stdout",
          "text": [
            "[('Good', 'morning', 'everyone', '.'), ('morning', 'everyone', '.', 'Today'), ('everyone', '.', 'Today', 'we'), ('.', 'Today', 'we', 'will'), ('Today', 'we', 'will', 'study'), ('we', 'will', 'study', 'NLTK'), ('will', 'study', 'NLTK', '.'), ('study', 'NLTK', '.', 'It'), ('NLTK', '.', 'It', 'is'), ('.', 'It', 'is', 'all'), ('It', 'is', 'all', 'about'), ('is', 'all', 'about', 'Natural'), ('all', 'about', 'Natural', 'Language'), ('about', 'Natural', 'Language', 'Processing'), ('Natural', 'Language', 'Processing', '.')]\n"
          ]
        }
      ],
      "source": [
        "import nltk\n",
        "nltk.download('punkt')\n",
        "from nltk.util import ngrams\n",
        "text= \"Good morning everyone. Today we will study NLTK. It is all about Natural Language Processing.\"\n",
        "token=nltk.word_tokenize(text)\n",
        "ngrams_list=list(nltk.ngrams(token,4))\n",
        "print(ngrams_list)"
      ]
    }
  ]
}