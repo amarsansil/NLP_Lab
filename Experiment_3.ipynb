{
  "nbformat": 4,
  "nbformat_minor": 0,
  "metadata": {
    "colab": {
      "provenance": []
    },
    "kernelspec": {
      "name": "python3",
      "display_name": "Python 3"
    },
    "language_info": {
      "name": "python"
    }
  },
  "cells": [
    {
      "cell_type": "code",
      "execution_count": 13,
      "metadata": {
        "colab": {
          "base_uri": "https://localhost:8080/"
        },
        "id": "oqC7l46OWnIF",
        "outputId": "62a498b5-69ca-41f3-a009-81b8a6bced4d"
      },
      "outputs": [
        {
          "output_type": "stream",
          "name": "stdout",
          "text": [
            "computer:comput\n",
            "------\n",
            "computer:comput\n",
            "computerization:computer\n",
            "computerize:computer\n",
            "computerization:computer\n",
            "------\n",
            "computer:comput\n",
            "computerization:computer\n",
            "computerize:computer\n",
            "computerize:computer\n",
            "------\n",
            "computer:comput\n",
            "computerization:computer\n",
            "computerize:computer\n",
            "computer:comput\n",
            "------\n",
            "computer:comput\n",
            "computerization:computer\n",
            "computerize:computer\n",
            "computerization:computer\n",
            "------\n",
            "computer:comput\n",
            "computerization:computer\n",
            "computerize:computer\n",
            "computerize:computer\n",
            "------\n",
            "computer:comput\n",
            "computerization:computer\n",
            "computerize:computer\n"
          ]
        }
      ],
      "source": [
        "from nltk.stem import *\n",
        "from nltk.stem import PorterStemmer\n",
        "from nltk.stem.snowball import SnowballStemmer\n",
        "ps=PorterStemmer()\n",
        "sb=SnowballStemmer((\"english\"))\n",
        "words=[\"computer\", \"computerization\", \"computerize\"]\n",
        "for i in words:\n",
        "  print(i + \":\" + ps.stem(i))\n",
        "  print(\"------\")\n",
        "  for i in words:\n",
        "    print(i + \":\" + sb.stem(i))"
      ]
    }
  ]
}