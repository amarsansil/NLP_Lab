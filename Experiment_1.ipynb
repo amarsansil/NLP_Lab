{
  "nbformat": 4,
  "nbformat_minor": 0,
  "metadata": {
    "colab": {
      "provenance": []
    },
    "kernelspec": {
      "name": "python3",
      "display_name": "Python 3"
    },
    "language_info": {
      "name": "python"
    }
  },
  "cells": [
    {
      "cell_type": "code",
      "execution_count": 3,
      "metadata": {
        "colab": {
          "base_uri": "https://localhost:8080/"
        },
        "id": "oqC7l46OWnIF",
        "outputId": "1c6a945a-2e51-4192-f618-46431538f75e"
      },
      "outputs": [
        {
          "output_type": "stream",
          "name": "stdout",
          "text": [
            "['Good morning everyone.', 'Today we will study NLTK.']\n",
            "['Good', 'morning', 'everyone', '.', 'Today', 'we', 'will', 'study', 'NLTK', '.']\n",
            "Good morning everyone.\n",
            "Good\n",
            "morning\n",
            "everyone\n",
            ".\n",
            "Today\n",
            "we\n",
            "will\n",
            "study\n",
            "NLTK\n",
            ".\n",
            "Today we will study NLTK.\n",
            "Good\n",
            "morning\n",
            "everyone\n",
            ".\n",
            "Today\n",
            "we\n",
            "will\n",
            "study\n",
            "NLTK\n",
            ".\n"
          ]
        },
        {
          "output_type": "stream",
          "name": "stderr",
          "text": [
            "[nltk_data] Downloading package punkt to /root/nltk_data...\n",
            "[nltk_data]   Package punkt is already up-to-date!\n"
          ]
        }
      ],
      "source": [
        "import nltk\n",
        "from nltk.tokenize import sent_tokenize, word_tokenize\n",
        "nltk.download('punkt')\n",
        "text = \"Good morning everyone. Today we will study NLTK.\"\n",
        "print(sent_tokenize(text))\n",
        "print(word_tokenize(text))\n",
        "for i in (sent_tokenize(text)):\n",
        "  print (i)\n",
        "  for j in (word_tokenize(text)):\n",
        "    print (j)\n",
        ""
      ]
    }
  ]
}